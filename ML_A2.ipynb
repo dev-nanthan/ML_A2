{
  "cells": [
    {
      "cell_type": "markdown",
      "source": [
        "# COMP6915 - Assignment2 - Team 12"
      ],
      "metadata": {
        "id": "gcqhXC1DkFZN"
      },
      "id": "gcqhXC1DkFZN"
    },
    {
      "cell_type": "markdown",
      "source": [
        "### Data Set\n",
        "\n",
        "The data consists of a total of 8 features, among which 7 features relate to the relative amounts of the ingredients (Cement, Blast Furnace Slag, Fly Ash, Water, Superplasticizer, Coarse Aggregate, Fine Aggregate respectively) in a concrete mixture, while a single feature denotes the age of the concrete.   \n",
        "\n",
        "Experimentally determined compressive strength for the given concrete mixture is provided as the outcome variable. The “training” and “test” datasets consisting of 800 and 100 samples respectively are given in the train.csv and test.csv files respectively."
      ],
      "metadata": {
        "id": "xGJjL3zor0XP"
      },
      "id": "xGJjL3zor0XP"
    },
    {
      "cell_type": "code",
      "source": [
        "# Enable and Disabel warning as required\n",
        "# Ignore Warning before Final PDF Generation to make it clean\n",
        "import warnings\n",
        "warnings.filterwarnings(\"ignore\")\n",
        "#warnings.resetwarnings()"
      ],
      "metadata": {
        "id": "2Q4wJRqXN5oE"
      },
      "id": "2Q4wJRqXN5oE",
      "execution_count": null,
      "outputs": []
    },
    {
      "cell_type": "code",
      "source": [
        "import pandas as pd\n",
        "import numpy as np\n",
        "import matplotlib.pyplot as plt\n",
        "from matplotlib.colors import ListedColormap\n",
        "\n",
        "from sklearn.model_selection import train_test_split, cross_val_score, KFold\n",
        "from sklearn.metrics import mean_squared_error, r2_score\n",
        "\n",
        "# Load the data from local session files\n",
        "# train_data = pd.read_csv(\"train.csv\")\n",
        "# test_data = pd.read_csv(\"test.csv\")\n",
        "\n",
        "# Load the data from Drive files\n",
        "from google.colab import drive\n",
        "drive.mount('/content/drive')\n",
        "#drive.mount('/content/drive', force_remount=True)\n",
        "\n",
        "dir_path = r\"/content/drive/MyDrive/Colab Notebooks/MLA2/\"\n",
        "p_train_data = dir_path+\"train.csv\"\n",
        "p_test_data = dir_path+\"test.csv\"\n",
        "\n",
        "train_data = pd.read_csv(p_train_data)\n",
        "test_data = pd.read_csv(p_test_data)\n",
        "\n",
        "# Extract the Data\n",
        "#############################################\n",
        "# Extract the Design Matrix of 8 features from the Training and Test Data\n",
        "X_train = train_data.iloc[:, :-1]\n",
        "X_test = test_data.iloc[:, :-1]\n",
        "\n",
        "# Extract Output ConcreteCompressiveStrength_MPa_Megapascals_ from Training and Test Data\n",
        "y_train = train_data.iloc[:, -1]\n",
        "y_test = test_data.iloc[:, -1]\n"
      ],
      "metadata": {
        "colab": {
          "base_uri": "https://localhost:8080/"
        },
        "id": "2lvARqO6PDe1",
        "outputId": "19d4ab15-9e00-4479-96dc-c38abcb0ef56"
      },
      "id": "2lvARqO6PDe1",
      "execution_count": 46,
      "outputs": [
        {
          "output_type": "stream",
          "name": "stdout",
          "text": [
            "Drive already mounted at /content/drive; to attempt to forcibly remount, call drive.mount(\"/content/drive\", force_remount=True).\n"
          ]
        }
      ]
    },
    {
      "cell_type": "markdown",
      "source": [
        "# Question 1\n",
        "\n",
        "---\n",
        "\n",
        "* Train a multivariate ordinary least squares (“simple”) linear regression model to predict the compressive strength of an input concrete mixture based on the relevant features. \n",
        "\n",
        "* Estimate the “Err” using both the **validation approach** (i.e.,\n",
        "train a model on the “training” dataset and test on the “test” dataset) as well as using a **cross-validation (CV) approach** (i.e. only using the “training” dataset). \n",
        "\n",
        "* Discuss the choice of the number folds used in your CV approach, and compare the “Err” estimates obtained using the validation and CV approaches.\n",
        "\n",
        "**Performance reporting convention:**\n",
        "Always report both the residual standard error (RSE) and the R2 statistic performance metrics when summarizing the performance (“Err”) of a regression model."
      ],
      "metadata": {
        "id": "sr9tghM2mHqo"
      },
      "id": "sr9tghM2mHqo"
    },
    {
      "cell_type": "markdown",
      "source": [
        "### Discussion: \n",
        "\n",
        "The **validation approach** involves splitting the data into a training dataset and a testing dataset. The training dataset is used to train the model, while the testing dataset is used to evaluate the performance of the model. By comparing the predicted values from the model with the actual values in the testing dataset, we can estimate the \"Err\" of the model. This approach is useful in detecting overfitting or underfitting, as it allows us to evaluate the model's performance on data that it has not seen during training.\n",
        "\n",
        "The **cross-validation approach** involves dividing the training dataset into multiple subsets, or \"folds,\" and training the model on each fold while testing on the remaining folds. By repeating this process for each fold, we can estimate the average performance of the model. This approach is useful when the dataset is small, as it allows us to make the most of the available data for training and testing the model.\n",
        "\n",
        "By using both approaches to estimate the \"Err\" of a multivariate ordinary least squares linear regression model, we can obtain a more accurate and reliable estimate of the model's performance. This can help us make more informed decisions about the model and improve its accuracy and generalizability to new data\n",
        "\n",
        "The **KFold** function is imported from the scikit-learn library and is used to Split the data set according to the in the specified criteria.\n",
        "\n",
        "### Output:\n",
        "**Validation approach:**\n",
        "* Residual Standard Error [RSE]: 9.5416\n",
        "* R2 statistic:: 0.5953\n",
        "\n",
        "**Cross-validation approach:**\n",
        "* Residual Standard Error [RSE]: 10.3412\n",
        "* R2 statistic: 0.6202"
      ],
      "metadata": {
        "id": "mjnK8uCAX2XZ"
      },
      "id": "mjnK8uCAX2XZ"
    },
    {
      "cell_type": "code",
      "source": [
        "from sklearn.linear_model import LinearRegression\n",
        "\n",
        "# Train linear regression model\n",
        "#############################################\n",
        "# Create a linear regression object\n",
        "lr = LinearRegression()\n",
        "# Fit the model using the training data\n",
        "lr.fit(X_train, y_train)\n",
        "\n",
        "# Validation Approach\n",
        "#############################################\n",
        "# Make predictions on the test data\n",
        "y_pred = lr.predict(X_test)\n",
        "\n",
        "# Compute the performance using validation approach\n",
        "rse_val = np.sqrt(mean_squared_error(y_test, y_pred))\n",
        "r2_val = r2_score(y_test, y_pred)\n",
        "\n",
        "# Print the results\n",
        "print(\"Validation approach:\")\n",
        "print(\"RSE: {:.4f}\".format(rse_val))\n",
        "print(\"R2: {:.4f}\".format(r2_val))\n",
        "\n",
        "# Cross-Validation approach Approach\n",
        "#############################################\n",
        "\n",
        "# Create the K-Fold\n",
        "# n_splits: number of folds to be used for cross-validation.\n",
        "# shuffle: shuffle the data before splitting it into folds.\n",
        "# random_state: To seed the random number generator  for shuffling. \n",
        "# Setting the same value for random_state parameter ensures  the same shuffling.\n",
        "kf = KFold(n_splits=5, shuffle=True, random_state=50) # Define the number of folds\n",
        "\n",
        "rse_cv_lnr = np.sqrt(-cross_val_score(lr, X_train, y_train, cv=kf, scoring='neg_mean_squared_error').mean())\n",
        "r2_cv_lnr = cross_val_score(lr, X_train, y_train, cv=kf, scoring='r2').mean()\n",
        "\n",
        "# Print the results\n",
        "print(\"\\nCross-validation approach:\")\n",
        "print(\"Residual Standard Error [RSE]: {:.4f}\".format(rse_cv_lnr))\n",
        "print(\"R2 statistic: {:.4f}\".format(r2_cv_lnr))\n"
      ],
      "metadata": {
        "colab": {
          "base_uri": "https://localhost:8080/"
        },
        "id": "_uvyHOUPWQWi",
        "outputId": "383f9fb3-8c60-4827-93b5-388af2b41c83"
      },
      "id": "_uvyHOUPWQWi",
      "execution_count": 48,
      "outputs": [
        {
          "output_type": "stream",
          "name": "stdout",
          "text": [
            "Validation approach:\n",
            "RSE: 9.5416\n",
            "R2: 0.5953\n",
            "\n",
            "Cross-validation approach:\n",
            "Residual Standard Error [RSE]: 10.3412\n",
            "R2 statistic: 0.6202\n"
          ]
        }
      ]
    },
    {
      "cell_type": "markdown",
      "source": [
        "# Question 2\n",
        "\n",
        "---\n",
        "\n",
        "* Train a multivariate Ridge regression model for the above concrete compressive strength prediction task. Use the “training” dataset and a CV based grid-search approach to tune the regularization parameter “α” of the Ridge\n",
        "regression model. \n",
        "\n",
        "* Using the “best” “α” setting, re-train on the entire “training” dataset to obtain the final Ridge regression model.\n",
        "\n",
        "* Estimate the “Err” of this final model on the “test” dataset. Plot the performance of the models explored during the “α” hyperparameter tuning phase as function of “α”.\n",
        "\n",
        "* Compare the performance of the Ridge regression model with that of the “simple” linear regression model.\n"
      ],
      "metadata": {
        "id": "7eQ2fe5Yr37E"
      },
      "id": "7eQ2fe5Yr37E"
    },
    {
      "cell_type": "markdown",
      "source": [
        "### Discussion: \n",
        "\n",
        "**GridSearchCV** is the function used  from the sklearn.model_selection module that performs an exhaustive search over specified parameter values for an estimator, in order to find the best set of hyperparameters that maximize a scoring metric. GridSearchCV function takes several parameters:\n",
        "* ***estimator***: This is the estimator object that is to be tuned. In this case, it is Ridge().\n",
        "* ***param_grid***: This parameter is a dictionary of hyperparameters to be tuned. In this case, it is a dictionary with the regularization parameter alpha as the key and a list of values to be tried for alpha as the value.\n",
        "* ***scoring***: This parameter specifies the scoring metric to be used to evaluate the performance of the model. In this case, it is set to 'neg_mean_squared_error'.\n",
        "* ***cv***: This parameter specifies the cross-validation splitting strategy. In this case, it is set to kf which is a KFold object that has been initialized earlier.\n",
        "* ***refit***: This parameter specifies whether to refit the estimator using the best found parameters on the whole dataset or not. In this case, it is set to True to refit the estimator.\n",
        "\n",
        "**neg_mean_squared_error** was used as the scoring parameter for GridSearchCV because we are dealing with a regression problem and the goal is to minimize the mean squared error. By taking the negative of the mean squared error, GridSearchCV treats it as a maximization problem, which is consistent with the goal of maximizing the performance metric.\n",
        "\n",
        "**Ridge** is the linear regression model with L2 regularization. It is used to avoid overfitting in linear regression models by adding a penalty term to the cost function that reduces the magnitude of the coefficients. The Ridge function has a single parameter:\n",
        "\n",
        "* ***alpha***: This parameter specifies the regularization strength. Higher values of alpha result in more regularization and smaller coefficients, which may help to prevent overfitting.\n",
        "\n",
        "### Output:\n",
        "* Best alpha value Ridge: 7742.63683\n",
        "* Residual Standard Error [RSE]: 9.5428\n",
        "* R2 statistic: 0.5952\n"
      ],
      "metadata": {
        "id": "v_ma-XqfsNx9"
      },
      "id": "v_ma-XqfsNx9"
    },
    {
      "cell_type": "code",
      "source": [
        "from sklearn.linear_model import Ridge\n",
        "from sklearn.model_selection import GridSearchCV\n",
        "\n",
        "# CV based grid-search to tune parameter “α” of the Ridge regression model\n",
        "# ##############################################################################\n",
        "# Create the Ridge model\n",
        "ridge = Ridge()\n",
        "\n",
        "# Define the range of alpha values to search\n",
        "# range:  between 10^-5 to 10^5 with 10 values spaced evenly on a logarithmic scale.\n",
        "alpha_range = np.logspace(-5, 5, 10)\n",
        "\n",
        "# Perform a grid search to tune the regularization parameter\n",
        "param_grid = {'alpha': alpha_range}\n",
        "\n",
        "grid_search = GridSearchCV(ridge, param_grid, cv=5, scoring='neg_mean_squared_error')\n",
        "# grid_search = GridSearchCV(ridge, param_grid, cv=5, scoring='neg_mean_squared_error')\n",
        "grid_search.fit(X_train, y_train)\n",
        "\n",
        "# Print the best parameter and score\n",
        "best_alpha = grid_search.best_params_['alpha']\n",
        "print(\"Best alpha value Ridge: {:.5f}\".format(best_alpha))\n",
        "# print(\"Best Score Ridge: \", np.sqrt(-grid_search.best_score_))\n",
        "\n",
        "# Re-Train final Ridge model Using the “best” “α” hyperparameter\n",
        "# ##############################################################################\n",
        "ridge = Ridge(alpha=best_alpha)\n",
        "\n",
        "# re-train on the entire “training” dataset to obtain the final Ridge regression model.\n",
        "ridge.fit(X_train, y_train)\n",
        "\n",
        "# predict on the test set using Final Model\n",
        "y_pred = ridge.predict(X_test)\n",
        "\n",
        "# Performance Evaluation\n",
        "# ##############################################################################\n",
        "\n",
        "# Compute the RSE and R2 error on the test set\n",
        "rse_ridge = np.sqrt(mean_squared_error(y_test, y_pred))\n",
        "r2_ridge = r2_score(y_test, y_pred)\n",
        "print(\"Residual Standard Error [RSE]: {:.4f}\".format(rse_ridge))\n",
        "print(\"R2 statistic: {:.4f}\".format(r2_ridge))\n",
        "\n",
        "# Plot the performance of the models explored during the alpha hyperparameter tuning phase as function of alpha\n",
        "mse_scores = -grid_search.cv_results_['mean_test_score']\n",
        "plt.figure(figsize=(8,8))\n",
        "plt.semilogx(alpha_range, mse_scores)\n",
        "plt.xlabel('Alpha')\n",
        "plt.ylabel('Mean Squared Error')\n",
        "plt.title('Ridge Regression Grid Search')\n",
        "plt.grid(True, which=\"both\")\n",
        "plt.show()\n"
      ],
      "metadata": {
        "colab": {
          "base_uri": "https://localhost:8080/",
          "height": 572
        },
        "id": "tbPElUDYry9Y",
        "outputId": "6ecdfb60-7f51-457d-8abe-cd2faf4443ea"
      },
      "id": "tbPElUDYry9Y",
      "execution_count": 47,
      "outputs": [
        {
          "output_type": "stream",
          "name": "stdout",
          "text": [
            "Best alpha value Ridge: 7742.63683\n",
            "Residual Standard Error [RSE]: 9.5428\n",
            "R2 statistic: 0.5952\n"
          ]
        },
        {
          "output_type": "display_data",
          "data": {
            "text/plain": [
              "<Figure size 576x576 with 1 Axes>"
            ],
            "image/png": "[encoded data removed]"
          },
          "metadata": {
            "needs_background": "light"
          }
        }
      ]
    },
    {
      "cell_type": "markdown",
      "source": [
        "# Question 3\n",
        "\n",
        "---\n",
        "\n",
        "* Repeat the above experiment with a multivariate Lasso regression model. \n",
        "* Plot the performance of the models explored during the “α” hyperparameter tuning phase as function of “α”. \n",
        "* Compare the performance of the final Lasso regression model with that of both the Ridge regression and the “simple” linear regression models.\n",
        "\n"
      ],
      "metadata": {
        "id": "5tIBWD2aKOW2"
      },
      "id": "5tIBWD2aKOW2"
    },
    {
      "cell_type": "markdown",
      "source": [
        "### Coparision of Performance of Lasso, Ridge, Simple Linear Regression Models\n",
        "\n",
        "**Lasso Regression Model:** \n",
        "* Residual Standard Rrror (RSE): 9.541807510700313\n",
        "* R2 score: 0.5952917560883537\n",
        "\n",
        "**Ridge Regression Model:** \n",
        "* Residual Standard Error [RSE]: 9.5428\n",
        "* R2 statistic: 0.5952\n",
        "\n",
        "**Simple Linear Regression Model:** \n",
        "* Residual Standard Error [RSE]: 10.3412\n",
        "* R2 statistic: 0.6202\n",
        "\n",
        "#### Best Estimator: Lasso(alpha=0.021544346900318846)\n",
        "\n",
        "\n",
        "\n"
      ],
      "metadata": {
        "id": "Nfrcr-WaeRay"
      },
      "id": "Nfrcr-WaeRay"
    },
    {
      "cell_type": "code",
      "source": [
        "from sklearn.linear_model import Lasso\n",
        "from sklearn.model_selection import GridSearchCV\n",
        "\n",
        "# CV based grid-search to tune parameter “α” of the Lasso regression model\n",
        "# ##############################################################################\n",
        "# Cerate the Lasso model\n",
        "lasso = Lasso()\n",
        "# lasso = Lasso(max_iter=10000)\n",
        "\n",
        "# Define the range of alpha values to search\n",
        "# range:  between 10^-5 to 10^5 with 10 values spaced evenly on a logarithmic scale.\n",
        "alpha_range = np.logspace(-5, 5, 10)\n",
        "\n",
        "# Perform a grid search to tune the regularization parameter\n",
        "param_grid = {'alpha': alpha_range}\n",
        "\n",
        "# Perform hyperparameter tuning using cross-validation and grid search\n",
        "grid_search = GridSearchCV(lasso, param_grid, cv=5, scoring='neg_mean_squared_error')\n",
        "grid_search.fit(X_train, y_train)\n",
        "\n",
        "# Extract the best alpha value and corresponding model\n",
        "best_alpha = grid_search.best_params_['alpha']\n",
        "lasso_best = grid_search.best_estimator_\n",
        "best_score = grid_search.best_score_\n",
        "# print(\"Best alpha value Lasso: {:.5f}\".format(best_alpha))\n",
        "print(\"Best Estimator:\", lasso_best)\n",
        "\n",
        "# Re-Train final Lasso regression model Using the “best” “α” hyperparameter\n",
        "# ##############################################################################\n",
        "lasso_final = Lasso(alpha=best_alpha)\n",
        "lasso_final.fit(X_train, y_train)\n",
        "\n",
        "# predict on the test set using Final Model\n",
        "y_pred = lasso_final.predict(X_test)\n",
        "\n",
        "# Performance Evaluation\n",
        "# ##############################################################################\n",
        "\n",
        "# Evaluate the final Lasso regression model on the test set using RSE and R2 metrics\n",
        "rse_lasso = np.sqrt(mean_squared_error(y_test, y_pred))\n",
        "r2_lasso = r2_score(y_test, y_pred)\n",
        "print(\"Lasso - Residual Standard Rrror (RSE):\", rse_lasso)\n",
        "print(\"Lasso - R2 score:\", r2_lasso)\n",
        "\n",
        "print(\"Ridge - Residual Standard Error [RSE]: {:.4f}\".format(rse_ridge))\n",
        "print(\"Ridge - R2 statistic: {:.4f}\".format(r2_ridge))\n",
        "\n",
        "print(\"Simple Linear - Residual Standard Error [RSE]: {:.4f}\".format(rse_cv_lnr))\n",
        "print(\"Simple Linear - R2 statistic: {:.4f}\".format(r2_cv_lnr))\n",
        "\n",
        "# Compare the Performance with Linear and Ridge Models\n",
        "\n",
        "# Plot the performance of the models explored during the \"α\" hyperparameter tuning phase as function of \"α\"\n",
        "mse_scores = -grid_search.cv_results_['mean_test_score']\n",
        "alphas = grid_search.cv_results_[\"param_alpha\"].data.astype(float)\n",
        "plt.figure(figsize=(8,8))\n",
        "plt.semilogx(alphas, mse_scores)\n",
        "plt.xlabel(\"alpha\")\n",
        "plt.ylabel(\"Mean Squared Error\")\n",
        "plt.title(\"Lasso Regression Grid Search\")\n",
        "plt.grid(True, which=\"both\", ls=\"-\")\n",
        "plt.show()\n"
      ],
      "metadata": {
        "id": "0nFnCZEIPA-3",
        "outputId": "f6678f48-a883-4c7e-86bf-f6b772a757e1",
        "colab": {
          "base_uri": "https://localhost:8080/",
          "height": 646
        }
      },
      "id": "0nFnCZEIPA-3",
      "execution_count": 50,
      "outputs": [
        {
          "output_type": "stream",
          "name": "stdout",
          "text": [
            "Best Estimator: Lasso(alpha=0.021544346900318846)\n",
            "Lasso - Residual Standard Rrror (RSE): 9.541807510700313\n",
            "Lasso - R2 score: 0.5952917560883537\n",
            "Ridge - Residual Standard Error [RSE]: 9.5428\n",
            "Ridge - R2 statistic: 0.5952\n",
            "Simple Linear - Residual Standard Error [RSE]: 10.3412\n",
            "Simple Linear - R2 statistic: 0.6202\n"
          ]
        },
        {
          "output_type": "display_data",
          "data": {
            "text/plain": [
              "<Figure size 576x576 with 1 Axes>"
            ],
            "image/png": "[encoded data removed]"
          },
          "metadata": {
            "needs_background": "light"
          }
        }
      ]
    },
    {
      "cell_type": "code",
      "execution_count": null,
      "id": "fd723f24",
      "metadata": {
        "id": "fd723f24"
      },
      "outputs": [],
      "source": [
        "from sklearn.ensemble import GradientBoostingRegressor\n",
        "from sklearn.preprocessing import StandardScaler\n",
        "import pandas as pd\n",
        "import numpy as np\n",
        "\n",
        "def predictCompressiveStrength(Xtest, data_dir):\n",
        "    # Load the training data\n",
        "    train_data = pd.read_csv(data_dir + \"/train.csv\")\n",
        "\n",
        "    # Extract the features and target variable from the training data\n",
        "    Xtrain = train_data.iloc[:, :-1]\n",
        "    ytrain = train_data.iloc[:, -1]\n",
        "\n",
        "    # Standardize the data\n",
        "    scaler = StandardScaler()\n",
        "    Xtrain = scaler.fit_transform(Xtrain)\n",
        "    Xtest = scaler.transform(Xtest)\n",
        "\n",
        "    # Train a Gradient Boosting Regressor with hyperparameter tuning\n",
        "    model = GradientBoostingRegressor(n_estimators=1000, learning_rate=0.05, max_depth=5, min_samples_split=5, random_state=42)\n",
        "    model.fit(Xtrain, ytrain)\n",
        "\n",
        "    # Make predictions on the test data\n",
        "    ytest = model.predict(Xtest)\n",
        "\n",
        "    return ytest\n",
        "\n"
      ]
    },
    {
      "cell_type": "code",
      "execution_count": null,
      "id": "ae9596fb",
      "metadata": {
        "id": "ae9596fb"
      },
      "outputs": [],
      "source": []
    }
  ],
  "metadata": {
    "kernelspec": {
      "display_name": "Python 3 (ipykernel)",
      "language": "python",
      "name": "python3"
    },
    "language_info": {
      "codemirror_mode": {
        "name": "ipython",
        "version": 3
      },
      "file_extension": ".py",
      "mimetype": "text/x-python",
      "name": "python",
      "nbconvert_exporter": "python",
      "pygments_lexer": "ipython3",
      "version": "3.9.12"
    },
    "colab": {
      "provenance": [],
      "toc_visible": true
    }
  },
  "nbformat": 4,
  "nbformat_minor": 5
}