{
  "cells": [
    {
      "cell_type": "markdown",
      "source": [
        "# COMP6915 - Assignment2 - Team 12"
      ],
      "metadata": {
        "id": "gcqhXC1DkFZN"
      },
      "id": "gcqhXC1DkFZN"
    },
    {
      "cell_type": "markdown",
      "source": [
        "### Data Set\n",
        "\n",
        "The data consists of a total of 8 features, among which 7 features relate to the relative amounts of the ingredients (Cement, Blast Furnace Slag, Fly Ash, Water, Superplasticizer, Coarse Aggregate, Fine Aggregate respectively) in a concrete mixture, while a single feature denotes the age of the concrete.   \n",
        "\n",
        "Experimentally determined compressive strength for the given concrete mixture is provided as the outcome variable. The “training” and “test” datasets consisting of 800 and 100 samples respectively are given in the train.csv and test.csv files respectively."
      ],
      "metadata": {
        "id": "xGJjL3zor0XP"
      },
      "id": "xGJjL3zor0XP"
    },
    {
      "cell_type": "code",
      "source": [
        "import pandas as pd\n",
        "import numpy as np\n",
        "import matplotlib.pyplot as plt\n",
        "from matplotlib.colors import ListedColormap\n",
        "\n",
        "from sklearn.model_selection import train_test_split, cross_val_score, KFold\n",
        "from sklearn.metrics import mean_squared_error, r2_score\n",
        "\n",
        "# Load the data from local session files\n",
        "# train_data = pd.read_csv(\"train.csv\")\n",
        "# test_data = pd.read_csv(\"test.csv\")\n",
        "\n",
        "# Load the data from Drive files\n",
        "from google.colab import drive\n",
        "drive.mount('/content/drive')\n",
        "#drive.mount('/content/drive', force_remount=True)\n",
        "\n",
        "dir_path = r\"/content/drive/MyDrive/Colab Notebooks/MLA2/\"\n",
        "p_train_data = dir_path+\"train.csv\"\n",
        "p_test_data = dir_path+\"test.csv\"\n",
        "\n",
        "train_data = pd.read_csv(p_train_data)\n",
        "test_data = pd.read_csv(p_test_data)\n",
        "\n",
        "# Extract the Data\n",
        "#############################################\n",
        "# Extract the Design Matrix of 8 features from the Training and Test Data\n",
        "X_train = train_data.iloc[:, :-1]\n",
        "X_test = test_data.iloc[:, :-1]\n",
        "\n",
        "# Extract Output ConcreteCompressiveStrength_MPa_Megapascals_ from Training and Test Data\n",
        "y_train = train_data.iloc[:, -1]\n",
        "y_test = test_data.iloc[:, -1]\n"
      ],
      "metadata": {
        "colab": {
          "base_uri": "https://localhost:8080/"
        },
        "id": "2lvARqO6PDe1",
        "outputId": "4cb38f7c-e3fc-4716-f14c-712b75c51011"
      },
      "id": "2lvARqO6PDe1",
      "execution_count": 5,
      "outputs": [
        {
          "output_type": "stream",
          "name": "stdout",
          "text": [
            "Drive already mounted at /content/drive; to attempt to forcibly remount, call drive.mount(\"/content/drive\", force_remount=True).\n"
          ]
        }
      ]
    },
    {
      "cell_type": "markdown",
      "source": [
        "# Question 1\n",
        "\n",
        "---\n",
        "\n",
        "* Train a multivariate ordinary least squares (“simple”) linear regression model to predict the compressive strength of an input concrete mixture based on the relevant features. \n",
        "\n",
        "* Estimate the “Err” using both the **validation approach** (i.e.,\n",
        "train a model on the “training” dataset and test on the “test” dataset) as well as using a **cross-validation (CV) approach** (i.e. only using the “training” dataset). \n",
        "\n",
        "* Discuss the choice of the number folds used in your CV approach, and compare the “Err” estimates obtained using the validation and CV approaches.\n",
        "\n",
        "**Performance reporting convention:**\n",
        "Always report both the residual standard error (RSE) and the R2 statistic performance metrics when summarizing the performance (“Err”) of a regression model."
      ],
      "metadata": {
        "id": "sr9tghM2mHqo"
      },
      "id": "sr9tghM2mHqo"
    },
    {
      "cell_type": "markdown",
      "source": [
        "### Discussion: \n",
        "\n",
        "The **validation approach** involves splitting the data into a training dataset and a testing dataset. The training dataset is used to train the model, while the testing dataset is used to evaluate the performance of the model. By comparing the predicted values from the model with the actual values in the testing dataset, we can estimate the \"Err\" of the model. This approach is useful in detecting overfitting or underfitting, as it allows us to evaluate the model's performance on data that it has not seen during training.\n",
        "\n",
        "The **cross-validation approach** involves dividing the training dataset into multiple subsets, or \"folds,\" and training the model on each fold while testing on the remaining folds. By repeating this process for each fold, we can estimate the average performance of the model. This approach is useful when the dataset is small, as it allows us to make the most of the available data for training and testing the model.\n",
        "\n",
        "By using both approaches to estimate the \"Err\" of a multivariate ordinary least squares linear regression model, we can obtain a more accurate and reliable estimate of the model's performance. This can help us make more informed decisions about the model and improve its accuracy and generalizability to new data\n",
        "\n",
        "The **KFold** function is imported from the scikit-learn library and is used to Split the data set according to the in the specified criteria.\n",
        "\n",
        "### Output:\n",
        "**Validation approach:**\n",
        "* Residual Standard Error [RSE]: 9.5416\n",
        "* R2 statistic:: 0.5953\n",
        "\n",
        "**Cross-validation approach:**\n",
        "* Residual Standard Error [RSE]: 10.3412\n",
        "* R2 statistic: 0.6202"
      ],
      "metadata": {
        "id": "mjnK8uCAX2XZ"
      },
      "id": "mjnK8uCAX2XZ"
    },
    {
      "cell_type": "code",
      "source": [
        "from sklearn.linear_model import LinearRegression\n",
        "\n",
        "# Train linear regression model\n",
        "#############################################\n",
        "# Create a linear regression object\n",
        "lr = LinearRegression()\n",
        "# Fit the model using the training data\n",
        "lr.fit(X_train, y_train)\n",
        "\n",
        "# Validation Approach\n",
        "#############################################\n",
        "# Make predictions on the test data\n",
        "y_pred = lr.predict(X_test)\n",
        "\n",
        "# Compute the performance using validation approach\n",
        "rse_val = np.sqrt(mean_squared_error(y_test, y_pred))\n",
        "r2_val = r2_score(y_test, y_pred)\n",
        "\n",
        "# Print the results\n",
        "print(\"Validation approach:\")\n",
        "print(\"RSE: {:.4f}\".format(rse_val))\n",
        "print(\"R2: {:.4f}\".format(r2_val))\n",
        "\n",
        "# Cross-Validation approach Approach\n",
        "#############################################\n",
        "\n",
        "# Create the K-Fold\n",
        "# n_splits: number of folds to be used for cross-validation.\n",
        "# shuffle: shuffle the data before splitting it into folds.\n",
        "# random_state: To seed the random number generator  for shuffling. \n",
        "# Setting the same value for random_state parameter ensures  the same shuffling.\n",
        "kf = KFold(n_splits=5, shuffle=True, random_state=50) # Define the number of folds\n",
        "\n",
        "rse_cv_lnr = np.sqrt(-cross_val_score(lr, X_train, y_train, cv=kf, scoring='neg_mean_squared_error').mean())\n",
        "r2_cv_lnr = cross_val_score(lr, X_train, y_train, cv=kf, scoring='r2').mean()\n",
        "\n",
        "# Print the results\n",
        "print(\"\\nCross-validation approach:\")\n",
        "print(\"Residual Standard Error [RSE]: {:.4f}\".format(rse_cv_lnr))\n",
        "print(\"R2 statistic: {:.4f}\".format(r2_cv_lnr))\n"
      ],
      "metadata": {
        "colab": {
          "base_uri": "https://localhost:8080/"
        },
        "id": "_uvyHOUPWQWi",
        "outputId": "1bc1f5a6-b337-42c3-d3b6-a6fb8950a7ca"
      },
      "id": "_uvyHOUPWQWi",
      "execution_count": 4,
      "outputs": [
        {
          "output_type": "stream",
          "name": "stdout",
          "text": [
            "Validation approach:\n",
            "RSE: 9.5416\n",
            "R2: 0.5953\n",
            "\n",
            "Cross-validation approach:\n",
            "Residual Standard Error [RSE]: 10.3412\n",
            "R2 statistic: 0.6202\n"
          ]
        }
      ]
    },
    {
      "cell_type": "markdown",
      "source": [
        "# Question 2\n",
        "\n",
        "---\n",
        "\n",
        "* Train a multivariate Ridge regression model for the above concrete compressive strength prediction task. Use the “training” dataset and a CV based grid-search approach to tune the regularization parameter “α” of the Ridge\n",
        "regression model. \n",
        "\n",
        "* Using the “best” “α” setting, re-train on the entire “training” dataset to obtain the final Ridge regression model.\n",
        "\n",
        "* Estimate the “Err” of this final model on the “test” dataset. Plot the performance of the models explored during the “α” hyperparameter tuning phase as function of “α”.\n",
        "\n",
        "* Compare the performance of the Ridge regression model with that of the “simple” linear regression model.\n"
      ],
      "metadata": {
        "id": "7eQ2fe5Yr37E"
      },
      "id": "7eQ2fe5Yr37E"
    },
    {
      "cell_type": "markdown",
      "source": [
        "### Discussion: \n",
        "\n",
        "**GridSearchCV** is the function used  from the sklearn.model_selection module that performs an exhaustive search over specified parameter values for an estimator, in order to find the best set of hyperparameters that maximize a scoring metric. GridSearchCV function takes several parameters:\n",
        "* ***estimator***: This is the estimator object that is to be tuned. In this case, it is Ridge().\n",
        "* ***param_grid***: This parameter is a dictionary of hyperparameters to be tuned. In this case, it is a dictionary with the regularization parameter alpha as the key and a list of values to be tried for alpha as the value.\n",
        "* ***scoring***: This parameter specifies the scoring metric to be used to evaluate the performance of the model. In this case, it is set to 'neg_mean_squared_error'.\n",
        "* ***cv***: This parameter specifies the cross-validation splitting strategy. In this case, it is set to kf which is a KFold object that has been initialized earlier.\n",
        "* ***refit***: This parameter specifies whether to refit the estimator using the best found parameters on the whole dataset or not. In this case, it is set to True to refit the estimator.\n",
        "\n",
        "#### **R2** vs **neg_mean_squared_error** Scoring for GridSearchCV\n",
        "* **R2:** score measures the proportion of variance in the dependent variable that is predictable from the independent variables. A higher R2 score indicates better fit of the model to the data. R2 is better for regression models when the goal is to **maximize the predictive power**.\n",
        "\n",
        "* **neg_mean_squared_error:** is a loss function that measures the average squared difference between the predicted and actual values. Since we want to minimize the error, the negative value of this metric is taken. A lower neg_mean_squared_error indicates better fit of the model to the data. neg_mean_squared_error is better for regression models when the goal is to **minimize the error**.\n",
        "\n",
        "**neg_mean_squared_error** was used as the scoring parameter for GridSearchCV because we are dealing with a regression problem and the goal is to minimize the mean squared error. By taking the negative of the mean squared error, GridSearchCV treats it as a maximization problem, which is consistent with the goal of maximizing the performance metric.\n",
        "\n",
        "**Ridge** is the linear regression model with L2 regularization. It is used to avoid overfitting in linear regression models by adding a penalty term to the cost function that reduces the magnitude of the coefficients. The Ridge function has a single parameter:\n",
        "\n",
        "* ***alpha***: This parameter specifies the regularization strength. Higher values of alpha result in more regularization and smaller coefficients, which may help to prevent overfitting.\n",
        "\n",
        "### Output:\n",
        "* Best alpha Ridge - MSE Scoring: 1668.10054\n",
        "* Best alpha Ridge - R2 Scoring: 1668.10054\n",
        "* Residual Standard Error [RSE]: 9.5414\n",
        "* R2 statistic: 0.5953\n"
      ],
      "metadata": {
        "id": "v_ma-XqfsNx9"
      },
      "id": "v_ma-XqfsNx9"
    },
    {
      "cell_type": "code",
      "source": [
        "from sklearn.linear_model import Ridge\n",
        "from sklearn.model_selection import GridSearchCV\n",
        "\n",
        "# CV based grid-search for hyperparameter tuning of the Ridge regression model\n",
        "# #############################################\n",
        "# Create the Ridge model\n",
        "ridge = Ridge()\n",
        "\n",
        "# Define the range of alpha values to search\n",
        "alpha_range = np.logspace(-3, 4, 10)\n",
        "\n",
        "# Perform a grid search to tune the regularization parameter\n",
        "param_grid = {'alpha': alpha_range}\n",
        "\n",
        "# Grid Search using neg_mean_squared_error scoring\n",
        "grid_search = GridSearchCV(ridge, param_grid, cv=5, scoring='neg_mean_squared_error')\n",
        "grid_search.fit(X_train, y_train)\n",
        "best_alpha = grid_search.best_params_['alpha']\n",
        "print(\"Best alpha Ridge - MSE Scoring: {:.5f}\".format(best_alpha))\n",
        "\n",
        "# Grid Search using r2 scoring\n",
        "ridge2 = Ridge()\n",
        "grid_search_r2 = GridSearchCV(ridge2, param_grid, cv=5, scoring='r2')\n",
        "grid_search_r2.fit(X_train, y_train)\n",
        "best_alpha_r2 = grid_search_r2.best_params_['alpha']\n",
        "print(\"Best alpha Ridge - R2 Scoring: {:.5f}\".format(best_alpha_r2))\n",
        "\n",
        "# Re-Train final Ridge model Using the “best-α” \n",
        "# #############################################\n",
        "ridge = Ridge(alpha=best_alpha)\n",
        "\n",
        "# re-train to obtain the final Ridge regression model.\n",
        "ridge.fit(X_train, y_train)\n",
        "\n",
        "# predict on the test set using Final Model\n",
        "y_pred = ridge.predict(X_test)\n",
        "\n",
        "# Performance Evaluation\n",
        "# #############################################\n",
        "\n",
        "# Compute the RSE and R2 error on the test set\n",
        "rse_ridge = np.sqrt(mean_squared_error(y_test, y_pred))\n",
        "r2_ridge = r2_score(y_test, y_pred)\n",
        "print(\"Residual Standard Error [RSE]: {:.4f}\".format(rse_ridge))\n",
        "print(\"R2 statistic: {:.4f}\".format(r2_ridge))\n",
        "\n",
        "# Plot RSE and R2 change over through GridSearchCV hyper parameter tuning\n",
        "# #############################################\n",
        "\n",
        "# RSE Results\n",
        "results_mse = pd.DataFrame(grid_search.cv_results_)\n",
        "mse_scores = -results_mse['mean_test_score']\n",
        "mse_alphas = results_mse['param_alpha']\n",
        "\n",
        "# R2 Scores\n",
        "results_r2 = pd.DataFrame(grid_search_r2.cv_results_)\n",
        "r2_scores = results_r2['mean_test_score']\n",
        "r2_alphas = results_r2['param_alpha']\n",
        "\n",
        "fig, axs = plt.subplots(1, 2, figsize=(10, 5))\n",
        "\n",
        "# Plot RSE on the left subplot\n",
        "axs[0].plot(mse_alphas, mse_scores)\n",
        "axs[0].set_xlabel('Alpha-α')\n",
        "axs[0].set_ylabel('Performance Score -RSE')\n",
        "axs[0].set_xscale('log')\n",
        "axs[0].set_title('Residual Standard Error (RSE)')\n",
        "axs[0].grid(True, which=\"both\")\n",
        "\n",
        "# Plot R2 on the right subplot\n",
        "axs[1].plot(r2_alphas, r2_scores)\n",
        "axs[1].set_xlabel('Alpha-α')\n",
        "axs[1].set_ylabel('Performance Score -RSE')\n",
        "axs[1].set_xscale('log')\n",
        "axs[1].set_title('R2 Score')\n",
        "axs[1].grid(True, which=\"both\")\n",
        "\n",
        "# Set the overall title for the figure\n",
        "fig.suptitle('Performance - Ridge α Tuning')\n",
        "\n",
        "plt.show()\n"
      ],
      "metadata": {
        "colab": {
          "base_uri": "https://localhost:8080/",
          "height": 447
        },
        "id": "tbPElUDYry9Y",
        "outputId": "b5d59dcd-ebd0-4ec5-bff4-0683c36affc9"
      },
      "id": "tbPElUDYry9Y",
      "execution_count": 26,
      "outputs": [
        {
          "output_type": "stream",
          "name": "stdout",
          "text": [
            "Best alpha Ridge - MSE Scoring: 1668.10054\n",
            "Best alpha Ridge - R2 Scoring: 1668.10054\n",
            "Residual Standard Error [RSE]: 9.5414\n",
            "R2 statistic: 0.5953\n"
          ]
        },
        {
          "output_type": "display_data",
          "data": {
            "text/plain": [
              "<Figure size 720x360 with 2 Axes>"
            ],
            "image/png": "[encoded data removed]"
          },
          "metadata": {
            "needs_background": "light"
          }
        }
      ]
    },
    {
      "cell_type": "markdown",
      "source": [
        "# Question 3\n",
        "\n",
        "---\n",
        "\n",
        "* Repeat the above experiment with a multivariate Lasso regression model. \n",
        "* Plot the performance of the models explored during the “α” hyperparameter tuning phase as function of “α”. \n",
        "* Compare the performance of the final Lasso regression model with that of both the Ridge regression and the “simple” linear regression models.\n",
        "\n"
      ],
      "metadata": {
        "id": "5tIBWD2aKOW2"
      },
      "id": "5tIBWD2aKOW2"
    },
    {
      "cell_type": "markdown",
      "source": [
        "### Coparision of Performance of Lasso, Ridge, Simple Linear Regression Models\n",
        "\n",
        "**Lasso Regression Model:** \n",
        "* Residual Standard Rrror (RSE): 9.541807510700313\n",
        "* R2 score: 0.5952917560883537\n",
        "\n",
        "**Ridge Regression Model:** \n",
        "* Residual Standard Error [RSE]: 9.5428\n",
        "* R2 statistic: 0.5952\n",
        "\n",
        "**Simple Linear Regression Model:** \n",
        "* Residual Standard Error [RSE]: 10.3412\n",
        "* R2 statistic: 0.6202\n",
        "\n",
        "#### Best Estimator: Lasso(alpha=0.02154)\n",
        "\n",
        "\n",
        "\n"
      ],
      "metadata": {
        "id": "Nfrcr-WaeRay"
      },
      "id": "Nfrcr-WaeRay"
    },
    {
      "cell_type": "code",
      "source": [
        "from sklearn.linear_model import Lasso\n",
        "from sklearn.model_selection import GridSearchCV\n",
        "\n",
        "# CV based grid-search for hyperparameter tuning of the Lasso regression model\n",
        "# #############################################\n",
        "# Cerate the Lasso model\n",
        "lasso = Lasso()\n",
        "# lasso = Lasso(max_iter=10000)\n",
        "\n",
        "# Define the range of alpha values to search\n",
        "alpha_range = np.logspace(-5, 5, 10)\n",
        "\n",
        "# Perform a grid search to tune the regularization parameter\n",
        "param_grid = {'alpha': alpha_range}\n",
        "\n",
        "# Perform hyperparameter tuning using cross-validation and grid search\n",
        "grid_search = GridSearchCV(lasso, param_grid, cv=5, scoring='neg_mean_squared_error')\n",
        "grid_search.fit(X_train, y_train)\n",
        "best_alpha = grid_search.best_params_['alpha']\n",
        "print(\"Best alpha lasso - RSE Scoring: {:.5f}\".format(best_alpha))\n",
        "\n",
        "# Grid Search using r2 scoring\n",
        "lasso2 = Lasso()\n",
        "grid_search_r2 = GridSearchCV(lasso2, param_grid, cv=5, scoring='r2')\n",
        "grid_search_r2.fit(X_train, y_train)\n",
        "best_alpha_r2 = grid_search_r2.best_params_['alpha']\n",
        "print(\"Best alpha lasso - R2 Scoring: {:.5f}\".format(best_alpha_r2))\n",
        "\n",
        "# Plot RSE and R2 change over through GridSearchCV hyper parameter tuning\n",
        "# #############################################\n",
        "\n",
        "# RSE Results\n",
        "results_mse = pd.DataFrame(grid_search.cv_results_)\n",
        "mse_scores = -results_mse['mean_test_score']\n",
        "mse_alphas = results_mse['param_alpha']\n",
        "\n",
        "# R2 Scores\n",
        "results_r2 = pd.DataFrame(grid_search_r2.cv_results_)\n",
        "r2_scores = results_r2['mean_test_score']\n",
        "r2_alphas = results_r2['param_alpha']\n",
        "\n",
        "fig, axs = plt.subplots(1, 2, figsize=(10, 5))\n",
        "\n",
        "# Plot RSE on the left subplot\n",
        "axs[0].plot(mse_alphas, mse_scores)\n",
        "axs[0].set_xlabel('Alpha-α')\n",
        "axs[0].set_ylabel('Performance Score -RSE')\n",
        "axs[0].set_xscale('log')\n",
        "axs[0].set_title('Residual Standard Error (RSE)')\n",
        "axs[0].grid(True, which=\"both\")\n",
        "\n",
        "# Plot R2 on the right subplot\n",
        "axs[1].plot(r2_alphas, r2_scores)\n",
        "axs[1].set_xlabel('Alpha-α')\n",
        "axs[1].set_ylabel('Performance Score -RSE')\n",
        "axs[1].set_xscale('log')\n",
        "axs[1].set_title('R2 Score')\n",
        "axs[1].grid(True, which=\"both\")\n",
        "\n",
        "# Set the overall title for the figure\n",
        "fig.suptitle('Performance - Lasso α Tuning')\n",
        "\n",
        "plt.show()\n",
        "\n",
        "# Re-Train final Lasso regression model Using the “best” “α” hyperparameter\n",
        "# #############################################\n",
        "lasso_final = Lasso(alpha=best_alpha)\n",
        "lasso_final.fit(X_train, y_train)\n",
        "\n",
        "# predict on the test set using Final Model\n",
        "y_pred = lasso_final.predict(X_test)\n",
        "\n",
        "# Performance Evaluation\n",
        "# #############################################\n",
        "\n",
        "# Evaluate the final Lasso regression model on the test set using RSE and R2 metrics\n",
        "rse_lasso = np.sqrt(mean_squared_error(y_test, y_pred))\n",
        "r2_lasso = r2_score(y_test, y_pred)\n",
        "print(\"Lasso - Residual Standard Rrror (RSE):\", rse_lasso)\n",
        "print(\"Lasso - R2 score:\", r2_lasso)\n",
        "\n",
        "print(\"Ridge - Residual Standard Error [RSE]: {:.4f}\".format(rse_ridge))\n",
        "print(\"Ridge - R2 statistic: {:.4f}\".format(r2_ridge))\n",
        "\n",
        "print(\"Simple Linear - Residual Standard Error [RSE]: {:.4f}\".format(rse_cv_lnr))\n",
        "print(\"Simple Linear - R2 statistic: {:.4f}\".format(r2_cv_lnr))\n"
      ],
      "metadata": {
        "colab": {
          "base_uri": "https://localhost:8080/",
          "height": 521
        },
        "id": "0nFnCZEIPA-3",
        "outputId": "2d793db2-4825-4025-dc1f-e81c77614071"
      },
      "id": "0nFnCZEIPA-3",
      "execution_count": 28,
      "outputs": [
        {
          "output_type": "stream",
          "name": "stdout",
          "text": [
            "Best alpha lasso - RSE Scoring: 0.02154\n",
            "Best alpha lasso - R2 Scoring: 0.02154\n"
          ]
        },
        {
          "output_type": "display_data",
          "data": {
            "text/plain": [
              "<Figure size 720x360 with 2 Axes>"
            ],
            "image/png": "[encoded data removed]"
          },
          "metadata": {
            "needs_background": "light"
          }
        },
        {
          "output_type": "stream",
          "name": "stdout",
          "text": [
            "Lasso - Residual Standard Rrror (RSE): 9.541807510700313\n",
            "Lasso - R2 score: 0.5952917560883537\n",
            "Ridge - Residual Standard Error [RSE]: 9.5414\n",
            "Ridge - R2 statistic: 0.5953\n",
            "Simple Linear - Residual Standard Error [RSE]: 10.3412\n",
            "Simple Linear - R2 statistic: 0.6202\n"
          ]
        }
      ]
    },
    {
      "cell_type": "markdown",
      "source": [
        "# Question 4\n",
        "\n",
        "---\n",
        "\n",
        "* Leveraging the experience you gained from the experiments thus far and/or conducting further experiments using the rich array of regression models available in the scikit-learn, design the “best” regression model for predicting\n",
        "compressive strength of a concrete mixture from the 8 features mentioned previously.\n",
        "\n",
        "* The only restriction is that, you may not use datasets other than the ones provided as part of this assignment.\n",
        "\n",
        "* Submit this “best” regression model as specified method.\n",
        "\n"
      ],
      "metadata": {
        "id": "yxx1VqYqiPni"
      },
      "id": "yxx1VqYqiPni"
    },
    {
      "cell_type": "markdown",
      "source": [
        "### NOTE For the Instructer: \n",
        "* Attached the Final python File **group12_best_model.py** to Import and test the **predictCompressiveStrength** function.\n",
        "\n",
        "* Attached a Demo file **demo_test_model.py** for the Usage of the function.\n",
        "\n",
        "* In this Jupyter Notebook, Just Demostrated the usage of **Best Regression Model**.\n",
        "\n"
      ],
      "metadata": {
        "id": "QgnLB7UvmPnR"
      },
      "id": "QgnLB7UvmPnR"
    },
    {
      "cell_type": "markdown",
      "source": [
        "### Discusstion:\n",
        "\n",
        "* **Gradient Boosting Regressor** (GBR) is used for the Final Best Model Submitted for the Question 4.\n",
        "\n",
        "* Gradient Boosting Regressor works by combining several weak or simple prediction models, such as decision trees, into a single strong prediction model.\n",
        "\n",
        "* Parameters of GradientBoostingRegressor:\n",
        "\n",
        "    * n_estimators: The number of boosting stages to perform.\n",
        "    * learning_rate: The shrinkage parameter that controls the contribution of each tree. Smaller values of learning rate will require more boosting stages to achieve the same performance.\n",
        "    * max_depth: The maximum depth of each tree in the ensemble. This controls the complexity of the model and helps to prevent overfitting.\n",
        "    * min_samples_split: The minimum number of samples required to split a node in a decision tree. It can help to prevent overfitting and improve the generalization of the model.\n",
        "    * min_samples_leaf: The minimum number of samples required to be at a leaf node in a decision tree. It can help to prevent overfitting and improve the generalization of the model.\n",
        "    * subsample: The fraction of samples to be used for fitting each individual tree. It can help to reduce the variance of the model and improve its robustness to noise.\n",
        "    * loss: The loss function to be optimized during the training. It determines the objective that the model tries to minimize, such as mean squared error (MSE), mean absolute error (MAE), or Huber loss.\n",
        "    * random_state: The random seed used by the random number generator for reproducibility."
      ],
      "metadata": {
        "id": "SbEgn74eHmoU"
      },
      "id": "SbEgn74eHmoU"
    },
    {
      "cell_type": "code",
      "source": [
        "# Import necessary libraries\n",
        "import pandas as pd\n",
        "from sklearn.ensemble import GradientBoostingRegressor\n",
        "from sklearn.model_selection import GridSearchCV\n",
        "\n",
        "def predictCompressiveStrength(Xtest, data_dir):\n",
        "\n",
        "  # Load the Data\n",
        "  #############################################\n",
        "  p_train_data = data_dir+\"train.csv\"\n",
        "  p_test_data = data_dir+\"test.csv\"\n",
        "\n",
        "  train_data = pd.read_csv(p_train_data)\n",
        "  test_data = pd.read_csv(p_test_data)\n",
        "\n",
        "  # Extract the Data\n",
        "  #############################################\n",
        "  # Extract the Design Matrix of 8 features from the Data Set\n",
        "  X_train = train_data.iloc[:, :-1] # Training\n",
        "  X_test = test_data.iloc[:, :-1]   # Test\n",
        "\n",
        "  # Extract Output from the Data Set\n",
        "  Y_train = train_data.iloc[:, -1]  # Training\n",
        "  Y_test = test_data.iloc[:, -1]    # Test\n",
        "\n",
        "  # Create a GradientBoostingRegressor model and Tune its Hyper-Parameter\n",
        "  # ############################################################################ \n",
        "  model = GradientBoostingRegressor()\n",
        "\n",
        "  # Define the hyperparameters to be tuned\n",
        "  param_grid = {'n_estimators': [50, 100, 150],\n",
        "                'learning_rate': [0.01, 0.1, 1],\n",
        "                'max_depth': [3, 5, 7]}\n",
        "                \n",
        "  # param_grid = {'n_estimators': [100, 500, 1000],\n",
        "  #               'learning_rate': [0.01, 0.1, 0.5],\n",
        "  #               'max_depth': [3, 5, 10]}\n",
        "                \n",
        "  # Use GridSearchCV to find the best hyperparameters\n",
        "  grid_search = GridSearchCV(model, param_grid, cv=5)\n",
        "  grid_search.fit(X_train, Y_train)\n",
        "\n",
        "  # Print the best hyperparameters\n",
        "  print(\"Best Hyperparameters:\", grid_search.best_params_)\n",
        "\n",
        "  # Create the Final GradientBoostingRegressor model using \"Best\" Hyper-Parameters\n",
        "  # ############################################################################ \n",
        "  final_model = GradientBoostingRegressor(**grid_search.best_params_)\n",
        "\n",
        "  # Combine Training data and the Validation/Test Data\n",
        "  X_Comb = pd.concat([X_train, X_test], ignore_index=True)\n",
        "  Y_Comb = pd.concat([Y_train, Y_test], ignore_index=True)\n",
        "\n",
        "  # Train the final model on the Combined training and Validation Data\n",
        "  final_model.fit(X_Comb, Y_Comb)\n",
        "\n",
        "  # Make predictions on the Blinded test data\n",
        "  y_pred = final_model.predict(Xtest)\n",
        "\n",
        "  # Return the predictions on the Blinded Test Data\n",
        "  return y_pred"
      ],
      "metadata": {
        "id": "P-QVubyOm7RL"
      },
      "id": "P-QVubyOm7RL",
      "execution_count": null,
      "outputs": []
    },
    {
      "cell_type": "markdown",
      "source": [
        "### Demo Usage of predictCompressiveStrength function"
      ],
      "metadata": {
        "id": "idBX92fiJSqV"
      },
      "id": "idBX92fiJSqV"
    },
    {
      "cell_type": "code",
      "source": [
        "import pandas as pd\n",
        "import numpy as np\n",
        "import matplotlib.pyplot as plt\n",
        "from sklearn.metrics import mean_squared_error, r2_score\n",
        "\n",
        "# Import the Group12_best_model Prediction Function\n",
        "# from group12_best_model import predictCompressiveStrength\n",
        "\n",
        "# Load and Extract the X,Y From the Blinded Test Data file\n",
        "#data_dir = \"./data/\"\n",
        "data_dir = \"./\"\n",
        "p_btest_data = data_dir+\"test_blind.csv\"\n",
        "blind_test_data = pd.read_csv(p_btest_data)\n",
        "\n",
        "X_bl_test = blind_test_data.iloc[:, :-1]\n",
        "Y_bl_test = blind_test_data.iloc[:, -1]\n",
        "\n",
        "# Predict the Compressive Strength for the Blind Test X Data\n",
        "y_pred_best = predictCompressiveStrength(X_bl_test, data_dir)\n",
        "\n",
        "# Evaluate the final Best regression model on the Blind test Data using R2 metrics\n",
        "rse_best = np.sqrt(mean_squared_error(Y_bl_test, y_pred_best))\n",
        "r2_best = r2_score(Y_bl_test, y_pred_best)\n",
        "\n",
        "print(\"Best - Residual Standard Rrror (RSE):\", rse_best)\n",
        "print(\"Best - R2 score:\", r2_best)\n"
      ],
      "metadata": {
        "colab": {
          "base_uri": "https://localhost:8080/"
        },
        "id": "9eQsAKa49wnw",
        "outputId": "e68568c8-9f8b-4e2e-e567-d414b6c60354"
      },
      "id": "9eQsAKa49wnw",
      "execution_count": null,
      "outputs": [
        {
          "output_type": "stream",
          "name": "stdout",
          "text": [
            "Best Hyperparameters: {'learning_rate': 0.1, 'max_depth': 5, 'n_estimators': 150}\n",
            "Best - Residual Standard Rrror (RSE): 5.335016815784994\n",
            "Best - R2 score: 0.8558338227253394\n"
          ]
        }
      ]
    }
  ],
  "metadata": {
    "kernelspec": {
      "display_name": "Python 3 (ipykernel)",
      "language": "python",
      "name": "python3"
    },
    "language_info": {
      "codemirror_mode": {
        "name": "ipython",
        "version": 3
      },
      "file_extension": ".py",
      "mimetype": "text/x-python",
      "name": "python",
      "nbconvert_exporter": "python",
      "pygments_lexer": "ipython3",
      "version": "3.9.12"
    },
    "colab": {
      "provenance": []
    }
  },
  "nbformat": 4,
  "nbformat_minor": 5
}