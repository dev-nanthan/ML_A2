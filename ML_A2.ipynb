{
  "cells": [
    {
      "cell_type": "markdown",
      "source": [
        "# COMP6915 - Assignment2 - Team 12"
      ],
      "metadata": {
        "id": "gcqhXC1DkFZN"
      },
      "id": "gcqhXC1DkFZN"
    },
    {
      "cell_type": "markdown",
      "source": [
        "### Data Set\n",
        "\n",
        "The data consists of a total of 8 features, among which 7 features relate to the relative amounts of the ingredients (Cement, Blast Furnace Slag, Fly Ash, Water, Superplasticizer, Coarse Aggregate, Fine Aggregate respectively) in a concrete mixture, while a single feature denotes the age of the concrete.   \n",
        "\n",
        "Experimentally determined compressive strength for the given concrete mixture is provided as the outcome variable. The “training” and “test” datasets consisting of 800 and 100 samples respectively are given in the train.csv and test.csv files respectively."
      ],
      "metadata": {
        "id": "xGJjL3zor0XP"
      },
      "id": "xGJjL3zor0XP"
    },
    {
      "cell_type": "code",
      "source": [
        "# Enable and Disabel warning as required\n",
        "# Ignore Warning before Final PDF Generation to make it clean\n",
        "import warnings\n",
        "warnings.filterwarnings(\"ignore\")\n",
        "#warnings.resetwarnings()"
      ],
      "metadata": {
        "id": "2Q4wJRqXN5oE"
      },
      "id": "2Q4wJRqXN5oE",
      "execution_count": null,
      "outputs": []
    },
    {
      "cell_type": "code",
      "source": [
        "import pandas as pd\n",
        "import numpy as np\n",
        "import matplotlib.pyplot as plt\n",
        "from matplotlib.colors import ListedColormap\n",
        "\n",
        "from sklearn.linear_model import LinearRegression\n",
        "from sklearn.model_selection import train_test_split, cross_val_score, KFold\n",
        "from sklearn.metrics import mean_squared_error, r2_score\n",
        "\n",
        "from sklearn.linear_model import Ridge\n",
        "from sklearn.model_selection import GridSearchCV\n",
        "\n",
        "# Load the data from local session files\n",
        "# train_data = pd.read_csv(\"train.csv\")\n",
        "# test_data = pd.read_csv(\"test.csv\")\n",
        "\n",
        "# Load the data from Drive files\n",
        "from google.colab import drive\n",
        "drive.mount('/content/drive')\n",
        "#drive.mount('/content/drive', force_remount=True)\n",
        "\n",
        "dir_path = r\"/content/drive/MyDrive/Colab Notebooks/MLA2/\"\n",
        "p_train_data = dir_path+\"train.csv\"\n",
        "p_test_data = dir_path+\"test.csv\"\n",
        "\n",
        "train_data = pd.read_csv(p_train_data)\n",
        "test_data = pd.read_csv(p_test_data)\n",
        "\n",
        "# Extract the Data\n",
        "#############################################\n",
        "# Extract the Design Matrix of 8 features from the Training and Test Data\n",
        "X_train = train_data.iloc[:, :-1]\n",
        "X_test = test_data.iloc[:, :-1]\n",
        "\n",
        "# Extract Output ConcreteCompressiveStrength_MPa_Megapascals_ from Training and Test Data\n",
        "y_train = train_data.iloc[:, -1]\n",
        "y_test = test_data.iloc[:, -1]\n"
      ],
      "metadata": {
        "colab": {
          "base_uri": "https://localhost:8080/"
        },
        "id": "2lvARqO6PDe1",
        "outputId": "2037ac7b-6e99-4c24-c464-6fba91de24cc"
      },
      "id": "2lvARqO6PDe1",
      "execution_count": 4,
      "outputs": [
        {
          "output_type": "stream",
          "name": "stdout",
          "text": [
            "Drive already mounted at /content/drive; to attempt to forcibly remount, call drive.mount(\"/content/drive\", force_remount=True).\n"
          ]
        }
      ]
    },
    {
      "cell_type": "markdown",
      "source": [
        "# Question 1\n",
        "\n",
        "---\n",
        "\n",
        "* Train a multivariate ordinary least squares (“simple”) linear regression model to predict the compressive strength of an input concrete mixture based on the relevant features. \n",
        "\n",
        "* Estimate the “Err” using both the **validation approach** (i.e.,\n",
        "train a model on the “training” dataset and test on the “test” dataset) as well as using a **cross-validation (CV) approach** (i.e. only using the “training” dataset). \n",
        "\n",
        "* Discuss the choice of the number folds used in your CV approach, and compare the “Err” estimates obtained using the validation and CV approaches.\n",
        "\n",
        "**Performance reporting convention:**\n",
        "Always report both the residual standard error (RSE) and the R2 statistic performance metrics when summarizing the performance (“Err”) of a regression model."
      ],
      "metadata": {
        "id": "sr9tghM2mHqo"
      },
      "id": "sr9tghM2mHqo"
    },
    {
      "cell_type": "markdown",
      "source": [
        "### Discussion: \n",
        "\n",
        "The **validation approach** involves splitting the data into a training dataset and a testing dataset. The training dataset is used to train the model, while the testing dataset is used to evaluate the performance of the model. By comparing the predicted values from the model with the actual values in the testing dataset, we can estimate the \"Err\" of the model. This approach is useful in detecting overfitting or underfitting, as it allows us to evaluate the model's performance on data that it has not seen during training.\n",
        "\n",
        "The **cross-validation approach** involves dividing the training dataset into multiple subsets, or \"folds,\" and training the model on each fold while testing on the remaining folds. By repeating this process for each fold, we can estimate the average performance of the model. This approach is useful when the dataset is small, as it allows us to make the most of the available data for training and testing the model.\n",
        "\n",
        "By using both approaches to estimate the \"Err\" of a multivariate ordinary least squares linear regression model, we can obtain a more accurate and reliable estimate of the model's performance. This can help us make more informed decisions about the model and improve its accuracy and generalizability to new data\n",
        "\n",
        "The **KFold** function is imported from the scikit-learn library and is used to Split the data set according to the in the specified criteria.\n"
      ],
      "metadata": {
        "id": "mjnK8uCAX2XZ"
      },
      "id": "mjnK8uCAX2XZ"
    },
    {
      "cell_type": "code",
      "source": [
        "# Train linear regression model\n",
        "#############################################\n",
        "# Create a linear regression object\n",
        "lr = LinearRegression()\n",
        "# Fit the model using the training data\n",
        "lr.fit(X_train, y_train)\n",
        "\n",
        "# Validation Approach\n",
        "#############################################\n",
        "# Make predictions on the test data\n",
        "y_pred = lr.predict(X_test)\n",
        "\n",
        "# Compute the performance using validation approach\n",
        "rse_val = np.sqrt(mean_squared_error(y_test, y_pred))\n",
        "r2_val = r2_score(y_test, y_pred)\n",
        "\n",
        "# Print the results\n",
        "print(\"Validation approach:\")\n",
        "print(\"RSE: {:.4f}\".format(rse_val))\n",
        "print(\"R2: {:.4f}\".format(r2_val))\n",
        "\n",
        "# Cross-Validation approach Approach\n",
        "#############################################\n",
        "\n",
        "# Create the K-Fold\n",
        "# n_splits: number of folds to be used for cross-validation.\n",
        "# shuffle: shuffle the data before splitting it into folds.\n",
        "# random_state: To seed the random number generator  for shuffling. \n",
        "# Setting the same value for random_state parameter ensures  the same shuffling.\n",
        "kf = KFold(n_splits=5, shuffle=True, random_state=50) # Define the number of folds\n",
        "\n",
        "rse_cv = np.sqrt(-cross_val_score(lr, X_train, y_train, cv=kf, scoring='neg_mean_squared_error').mean())\n",
        "r2_cv = cross_val_score(lr, X_train, y_train, cv=kf, scoring='r2').mean()\n",
        "\n",
        "# Print the results\n",
        "print(\"\\nCross-validation approach:\")\n",
        "print(\"Residual Standard Error [RSE]: {:.4f}\".format(rse_cv))\n",
        "print(\"R2 statistic: {:.4f}\".format(r2_cv))\n"
      ],
      "metadata": {
        "colab": {
          "base_uri": "https://localhost:8080/"
        },
        "id": "_uvyHOUPWQWi",
        "outputId": "7b33e0b5-96ae-48d1-fadd-9ecb979a94b8"
      },
      "id": "_uvyHOUPWQWi",
      "execution_count": 5,
      "outputs": [
        {
          "output_type": "stream",
          "name": "stdout",
          "text": [
            "Validation approach:\n",
            "RSE: 9.5416\n",
            "R2: 0.5953\n",
            "\n",
            "Cross-validation approach:\n",
            "RSE: 10.3412\n",
            "R2: 0.6202\n"
          ]
        }
      ]
    },
    {
      "cell_type": "markdown",
      "source": [
        "# Question 2\n",
        "\n",
        "---\n",
        "\n",
        "* Train a multivariate Ridge regression model for the above concrete compressive strength prediction task. Use the “training” dataset and a CV based grid-search approach to tune the regularization parameter “α” of the Ridge\n",
        "regression model. \n",
        "\n",
        "* Using the “best” “α” setting, re-train on the entire “training” dataset to obtain the final Ridge regression model.\n",
        "\n",
        "* Estimate the “Err” of this final model on the “test” dataset. Plot the performance of the models explored during the “α” hyperparameter tuning phase as function of “α”.\n",
        "\n",
        "* Compare the performance of the Ridge regression model with that of the “simple” linear regression model.\n"
      ],
      "metadata": {
        "id": "7eQ2fe5Yr37E"
      },
      "id": "7eQ2fe5Yr37E"
    },
    {
      "cell_type": "markdown",
      "source": [
        "### Discussion: \n",
        "\n",
        "**GridSearchCV** is the function used  from the sklearn.model_selection module that performs an exhaustive search over specified parameter values for an estimator, in order to find the best set of hyperparameters that maximize a scoring metric. GridSearchCV function takes several parameters:\n",
        "* ***estimator***: This is the estimator object that is to be tuned. In this case, it is Ridge().\n",
        "* ***param_grid***: This parameter is a dictionary of hyperparameters to be tuned. In this case, it is a dictionary with the regularization parameter alpha as the key and a list of values to be tried for alpha as the value.\n",
        "* ***scoring***: This parameter specifies the scoring metric to be used to evaluate the performance of the model. In this case, it is set to 'neg_mean_squared_error'.\n",
        "* ***cv***: This parameter specifies the cross-validation splitting strategy. In this case, it is set to kf which is a KFold object that has been initialized earlier.\n",
        "* ***refit***: This parameter specifies whether to refit the estimator using the best found parameters on the whole dataset or not. In this case, it is set to True to refit the estimator.\n",
        "\n",
        "**neg_mean_squared_error** was used as the scoring parameter for GridSearchCV because we are dealing with a regression problem and the goal is to minimize the mean squared error. By taking the negative of the mean squared error, GridSearchCV treats it as a maximization problem, which is consistent with the goal of maximizing the performance metric.\n",
        "\n",
        "**Ridge** is the linear regression model with L2 regularization. It is used to avoid overfitting in linear regression models by adding a penalty term to the cost function that reduces the magnitude of the coefficients. The Ridge function has a single parameter:\n",
        "\n",
        "* ***alpha***: This parameter specifies the regularization strength. Higher values of alpha result in more regularization and smaller coefficients, which may help to prevent overfitting.\n"
      ],
      "metadata": {
        "id": "v_ma-XqfsNx9"
      },
      "id": "v_ma-XqfsNx9"
    },
    {
      "cell_type": "code",
      "source": [
        "# CV based grid-search to tune parameter “α” of the Ridge regression model\n",
        "# ##############################################################################\n",
        "# Define the Ridge model\n",
        "ridge = Ridge()\n",
        "\n",
        "# Define the range of alpha values to search\n",
        "# range:  between 10^-5 to 10^5 with 10 values spaced evenly on a logarithmic scale.\n",
        "alpha_range = np.logspace(-5, 5, 10)\n",
        "\n",
        "# Perform a grid search to tune the regularization parameter\n",
        "param_grid = {'alpha': alpha_range}\n",
        "\n",
        "grid_search = GridSearchCV(ridge, param_grid, cv=5, scoring='neg_mean_squared_error')\n",
        "# grid_search = GridSearchCV(ridge, param_grid, cv=5, scoring='neg_mean_squared_error')\n",
        "grid_search.fit(X_train, y_train)\n",
        "\n",
        "# Print the best parameter and score\n",
        "best_alpha = grid_search.best_params_['alpha']\n",
        "print(\"Best alpha value: {:.5f}\".format(best_alpha))\n",
        "print(\"Best Score: \", np.sqrt(-grid_search.best_score_))\n",
        "\n",
        "# New Ridge model Using the “best” “α” setting\n",
        "# ##############################################################################\n",
        "ridge = Ridge(alpha=best_alpha)\n",
        "\n",
        "# re-train on the entire “training” dataset to obtain the final Ridge regression model.\n",
        "ridge.fit(X_train, y_train)\n",
        "\n",
        "# predict on the test set\n",
        "y_pred = ridge.predict(X_test)\n",
        "\n",
        "# Performance Evaluation\n",
        "# ##############################################################################\n",
        "\n",
        "# Compute the RSE and R2 error on the test set\n",
        "rse = np.sqrt(mean_squared_error(y_test, y_pred))\n",
        "r2 = r2_score(y_test, y_pred)\n",
        "print(\"Residual Standard Error [RSE]: {:.4f}\".format(rse))\n",
        "print(\"R2 statistic: {:.4f}\".format(r2))\n",
        "\n",
        "# Plot the performance of the models explored during the alpha hyperparameter tuning phase as function of alpha\n",
        "mse_scores = -grid_search.cv_results_['mean_test_score']\n",
        "plt.semilogx(alpha_range, mse_scores)\n",
        "plt.xlabel('Alpha')\n",
        "plt.ylabel('Mean Squared Error')\n",
        "plt.title('Ridge Regression Grid Search')\n",
        "plt.show()\n"
      ],
      "metadata": {
        "id": "tbPElUDYry9Y",
        "outputId": "59327ef7-61ad-492d-ff44-4a4e3aaade6d",
        "colab": {
          "base_uri": "https://localhost:8080/",
          "height": 373
        }
      },
      "id": "tbPElUDYry9Y",
      "execution_count": 26,
      "outputs": [
        {
          "output_type": "stream",
          "name": "stdout",
          "text": [
            "Best alpha value: 7742.63683\n",
            "Best Score:  10.323793602538235\n",
            "Residual Standard Error [RSE]: 9.5428\n",
            "R2 statistic: 0.5952\n"
          ]
        },
        {
          "output_type": "display_data",
          "data": {
            "text/plain": [
              "<Figure size 432x288 with 1 Axes>"
            ],
            "image/png": "[encoded data removed]"
          },
          "metadata": {
            "needs_background": "light"
          }
        }
      ]
    },
    
    {
      "cell_type": "markdown",
      "source": [
        "# Question 3\n",
        "\n",
        "---\n",
        "\n",
        "* Repeat the above experiment with a multivariate Lasso regression model. \n",
        "* Plot the performance of the models explored during the “α” hyperparameter tuning phase as function of “α”. \n",
        "* Compare the performance of the final Lasso regression model with that of both the Ridge regression and the “simple” linear regression models.\n",
        "\n"
      ],
      "metadata": {
        "id": "5tIBWD2aKOW2"
      },
      "id": "5tIBWD2aKOW2"
    },
    {
      "cell_type": "code",
      "execution_count": null,
      "id": "d485a1c4",
      "metadata": {
        "id": "d485a1c4",
        "outputId": "0b556e3a-b491-4a82-fcbe-2ece3de1f7e5"
      },
      "outputs": [
        {
          "name": "stdout",
          "output_type": "stream",
          "text": [
            "Best alpha parameter value:  0.09111627561154886\n"
          ]
        },
        {
          "data": {
            "image/png": "[encoded data removed]",
            "text/plain": [
              "<Figure size 432x288 with 1 Axes>"
            ]
          },
          "metadata": {
            "needs_background": "light"
          },
          "output_type": "display_data"
        },
        {
          "name": "stdout",
          "output_type": "stream",
          "text": [
            "Lasso Regression - Test RSE: 9.594899104409219\n",
            "Lasso Regression - Test R2 score: 0.5907755504388721\n",
            "\n",
            "Linear Regression - Test RSE: 9.541579629003255\n",
            "Linear Regression - Test R2 score: 0.5953110867026099\n",
            "\n",
            "Ridge Regression - Test RSE: 9.550508294681698\n",
            "Ridge Regression - Test R2 score: 0.5945533457909424\n",
            "\n",
            "Lasso Regression - Test RSE: 9.594899104409219\n",
            "Lasso Regression - Test R2 score: 0.5907755504388721\n"
          ]
        }
      ],
      "source": [
        "# Import necessary libraries\n",
        "import numpy as np\n",
        "import pandas as pd\n",
        "from sklearn.linear_model import LassoCV\n",
        "from sklearn.linear_model import RidgeCV\n",
        "from sklearn.metrics import mean_squared_error, r2_score\n",
        "from sklearn.preprocessing import StandardScaler\n",
        "import matplotlib.pyplot as plt\n",
        "\n",
        "# Load the data\n",
        "train_df = pd.read_csv('train.csv')\n",
        "test_df = pd.read_csv('test.csv')\n",
        "\n",
        "# Extract features and target variable\n",
        "X_train = train_df.iloc[:, :-1].values\n",
        "y_train = train_df.iloc[:, -1].values\n",
        "X_test = test_df.iloc[:, :-1].values\n",
        "y_test = test_df.iloc[:, -1].values\n",
        "\n",
        "# Scale the data\n",
        "scaler = StandardScaler()\n",
        "X_train = scaler.fit_transform(X_train)\n",
        "X_test = scaler.transform(X_test)\n",
        "\n",
        "# Train a Lasso regression model with CV-based hyperparameter tuning\n",
        "alphas = np.logspace(-5, 2, 100)\n",
        "lasso_cv = LassoCV(alphas=alphas, cv=5)\n",
        "lasso_cv.fit(X_train, y_train)\n",
        "\n",
        "# Print the best alpha parameter value\n",
        "print(\"Best alpha parameter value: \", lasso_cv.alpha_)\n",
        "\n",
        "# Plot the performance of the Lasso models explored during hyperparameter tuning\n",
        "plt.figure()\n",
        "plt.plot(lasso_cv.alphas_, lasso_cv.mse_path_, ':')\n",
        "plt.plot(lasso_cv.alphas_, lasso_cv.mse_path_.mean(axis=-1), 'k', label='Average across the folds', linewidth=2)\n",
        "plt.axvline(lasso_cv.alpha_, linestyle='--', color='k', label='Selected alpha')\n",
        "plt.legend()\n",
        "plt.xlabel('Alpha parameter')\n",
        "plt.ylabel('Mean squared error')\n",
        "plt.title('Lasso regularization path - Mean squared error')\n",
        "plt.show()\n",
        "\n",
        "# Train the final Lasso regression model with the best alpha value\n",
        "lasso_reg = LassoCV(alphas=lasso_cv.alphas_, cv=5)\n",
        "lasso_reg.fit(X_train, y_train)\n",
        "\n",
        "# Evaluate the performance of the Lasso model on the test data\n",
        "y_pred = lasso_reg.predict(X_test)\n",
        "rse = np.sqrt(mean_squared_error(y_test, y_pred))\n",
        "r2 = r2_score(y_test, y_pred)\n",
        "print(\"Lasso Regression - Test RSE:\", rse)\n",
        "print(\"Lasso Regression - Test R2 score:\", r2)\n",
        "\n",
        "# Compare the performance of the Lasso model with that of the Ridge and simple linear regression models\n",
        "simple_reg = LinearRegression()\n",
        "simple_reg.fit(X_train, y_train)\n",
        "simple_y_pred = simple_reg.predict(X_test)\n",
        "simple_rse = np.sqrt(mean_squared_error(y_test, simple_y_pred))\n",
        "simple_r2 = r2_score(y_test, simple_y_pred)\n",
        "\n",
        "ridge_reg = RidgeCV(alphas=alphas, cv=5)\n",
        "ridge_reg.fit(X_train, y_train)\n",
        "ridge_y_pred = ridge_reg.predict(X_test)\n",
        "ridge_rse = np.sqrt(mean_squared_error(y_test, ridge_y_pred))\n",
        "ridge_r2 = r2_score(y_test, ridge_y_pred)\n",
        "\n",
        "print(\"\\nLinear Regression - Test RSE:\", simple_rse)\n",
        "print(\"Linear Regression - Test R2 score:\", simple_r2)\n",
        "\n",
        "print(\"\\nRidge Regression - Test RSE:\", ridge_rse)\n",
        "print(\"Ridge Regression - Test R2 score:\", ridge_r2)\n",
        "\n",
        "print(\"\\nLasso Regression - Test RSE:\", rse)\n",
        "print(\"Lasso Regression - Test R2 score:\", r2)\n"
      ]
    },
    {
      "cell_type": "code",
      "execution_count": null,
      "id": "fd723f24",
      "metadata": {
        "id": "fd723f24"
      },
      "outputs": [],
      "source": [
        "from sklearn.ensemble import GradientBoostingRegressor\n",
        "from sklearn.preprocessing import StandardScaler\n",
        "import pandas as pd\n",
        "import numpy as np\n",
        "\n",
        "def predictCompressiveStrength(Xtest, data_dir):\n",
        "    # Load the training data\n",
        "    train_data = pd.read_csv(data_dir + \"/train.csv\")\n",
        "\n",
        "    # Extract the features and target variable from the training data\n",
        "    Xtrain = train_data.iloc[:, :-1]\n",
        "    ytrain = train_data.iloc[:, -1]\n",
        "\n",
        "    # Standardize the data\n",
        "    scaler = StandardScaler()\n",
        "    Xtrain = scaler.fit_transform(Xtrain)\n",
        "    Xtest = scaler.transform(Xtest)\n",
        "\n",
        "    # Train a Gradient Boosting Regressor with hyperparameter tuning\n",
        "    model = GradientBoostingRegressor(n_estimators=1000, learning_rate=0.05, max_depth=5, min_samples_split=5, random_state=42)\n",
        "    model.fit(Xtrain, ytrain)\n",
        "\n",
        "    # Make predictions on the test data\n",
        "    ytest = model.predict(Xtest)\n",
        "\n",
        "    return ytest\n",
        "\n"
      ]
    },
    {
      "cell_type": "code",
      "execution_count": null,
      "id": "ae9596fb",
      "metadata": {
        "id": "ae9596fb"
      },
      "outputs": [],
      "source": []
    }
  ],
  "metadata": {
    "kernelspec": {
      "display_name": "Python 3 (ipykernel)",
      "language": "python",
      "name": "python3"
    },
    "language_info": {
      "codemirror_mode": {
        "name": "ipython",
        "version": 3
      },
      "file_extension": ".py",
      "mimetype": "text/x-python",
      "name": "python",
      "nbconvert_exporter": "python",
      "pygments_lexer": "ipython3",
      "version": "3.9.12"
    },
    "colab": {
      "provenance": [],
      "toc_visible": true
    }
  },
  "nbformat": 4,
  "nbformat_minor": 5
}
